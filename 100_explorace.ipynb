{
 "cells": [
  {
   "cell_type": "code",
   "execution_count": 50,
   "id": "95059594",
   "metadata": {},
   "outputs": [],
   "source": [
    "import pandas as pd"
   ]
  },
  {
   "cell_type": "code",
   "execution_count": 51,
   "id": "5c450afa",
   "metadata": {},
   "outputs": [],
   "source": [
    "df = pd.read_csv(\"data/souhrnne_vysledky.csv\")"
   ]
  },
  {
   "cell_type": "code",
   "execution_count": 52,
   "id": "4af5ce83",
   "metadata": {},
   "outputs": [
    {
     "data": {
      "text/html": [
       "<div>\n",
       "<style scoped>\n",
       "    .dataframe tbody tr th:only-of-type {\n",
       "        vertical-align: middle;\n",
       "    }\n",
       "\n",
       "    .dataframe tbody tr th {\n",
       "        vertical-align: top;\n",
       "    }\n",
       "\n",
       "    .dataframe thead th {\n",
       "        text-align: right;\n",
       "    }\n",
       "</style>\n",
       "<table border=\"1\" class=\"dataframe\">\n",
       "  <thead>\n",
       "    <tr style=\"text-align: right;\">\n",
       "      <th></th>\n",
       "      <th>rok</th>\n",
       "      <th>mesic</th>\n",
       "      <th>predstaveni</th>\n",
       "      <th>divactvo</th>\n",
       "      <th>ciste_trzby</th>\n",
       "      <th>prumerne_vstupne</th>\n",
       "    </tr>\n",
       "  </thead>\n",
       "  <tbody>\n",
       "    <tr>\n",
       "      <th>0</th>\n",
       "      <td>2000</td>\n",
       "      <td>1</td>\n",
       "      <td>16184.0</td>\n",
       "      <td>688131.0</td>\n",
       "      <td>45494892.0</td>\n",
       "      <td>66.113708</td>\n",
       "    </tr>\n",
       "    <tr>\n",
       "      <th>1</th>\n",
       "      <td>2000</td>\n",
       "      <td>2</td>\n",
       "      <td>15774.0</td>\n",
       "      <td>888290.0</td>\n",
       "      <td>60084053.0</td>\n",
       "      <td>67.640132</td>\n",
       "    </tr>\n",
       "    <tr>\n",
       "      <th>2</th>\n",
       "      <td>2000</td>\n",
       "      <td>3</td>\n",
       "      <td>17508.0</td>\n",
       "      <td>946705.0</td>\n",
       "      <td>61743112.0</td>\n",
       "      <td>65.218956</td>\n",
       "    </tr>\n",
       "    <tr>\n",
       "      <th>3</th>\n",
       "      <td>2000</td>\n",
       "      <td>4</td>\n",
       "      <td>16755.0</td>\n",
       "      <td>742518.0</td>\n",
       "      <td>46847625.0</td>\n",
       "      <td>63.092915</td>\n",
       "    </tr>\n",
       "    <tr>\n",
       "      <th>4</th>\n",
       "      <td>2000</td>\n",
       "      <td>5</td>\n",
       "      <td>16154.0</td>\n",
       "      <td>646617.0</td>\n",
       "      <td>43016124.0</td>\n",
       "      <td>66.524889</td>\n",
       "    </tr>\n",
       "    <tr>\n",
       "      <th>...</th>\n",
       "      <td>...</td>\n",
       "      <td>...</td>\n",
       "      <td>...</td>\n",
       "      <td>...</td>\n",
       "      <td>...</td>\n",
       "      <td>...</td>\n",
       "    </tr>\n",
       "    <tr>\n",
       "      <th>295</th>\n",
       "      <td>2024</td>\n",
       "      <td>8</td>\n",
       "      <td>NaN</td>\n",
       "      <td>NaN</td>\n",
       "      <td>NaN</td>\n",
       "      <td>NaN</td>\n",
       "    </tr>\n",
       "    <tr>\n",
       "      <th>296</th>\n",
       "      <td>2024</td>\n",
       "      <td>9</td>\n",
       "      <td>NaN</td>\n",
       "      <td>NaN</td>\n",
       "      <td>NaN</td>\n",
       "      <td>NaN</td>\n",
       "    </tr>\n",
       "    <tr>\n",
       "      <th>297</th>\n",
       "      <td>2024</td>\n",
       "      <td>10</td>\n",
       "      <td>NaN</td>\n",
       "      <td>NaN</td>\n",
       "      <td>NaN</td>\n",
       "      <td>NaN</td>\n",
       "    </tr>\n",
       "    <tr>\n",
       "      <th>298</th>\n",
       "      <td>2024</td>\n",
       "      <td>11</td>\n",
       "      <td>NaN</td>\n",
       "      <td>NaN</td>\n",
       "      <td>NaN</td>\n",
       "      <td>NaN</td>\n",
       "    </tr>\n",
       "    <tr>\n",
       "      <th>299</th>\n",
       "      <td>2024</td>\n",
       "      <td>12</td>\n",
       "      <td>NaN</td>\n",
       "      <td>NaN</td>\n",
       "      <td>NaN</td>\n",
       "      <td>NaN</td>\n",
       "    </tr>\n",
       "  </tbody>\n",
       "</table>\n",
       "<p>300 rows × 6 columns</p>\n",
       "</div>"
      ],
      "text/plain": [
       "      rok  mesic  predstaveni  divactvo  ciste_trzby  prumerne_vstupne\n",
       "0    2000      1      16184.0  688131.0   45494892.0         66.113708\n",
       "1    2000      2      15774.0  888290.0   60084053.0         67.640132\n",
       "2    2000      3      17508.0  946705.0   61743112.0         65.218956\n",
       "3    2000      4      16755.0  742518.0   46847625.0         63.092915\n",
       "4    2000      5      16154.0  646617.0   43016124.0         66.524889\n",
       "..    ...    ...          ...       ...          ...               ...\n",
       "295  2024      8          NaN       NaN          NaN               NaN\n",
       "296  2024      9          NaN       NaN          NaN               NaN\n",
       "297  2024     10          NaN       NaN          NaN               NaN\n",
       "298  2024     11          NaN       NaN          NaN               NaN\n",
       "299  2024     12          NaN       NaN          NaN               NaN\n",
       "\n",
       "[300 rows x 6 columns]"
      ]
     },
     "execution_count": 52,
     "metadata": {},
     "output_type": "execute_result"
    }
   ],
   "source": [
    "df"
   ]
  },
  {
   "cell_type": "code",
   "execution_count": 53,
   "id": "6b345652",
   "metadata": {},
   "outputs": [
    {
     "data": {
      "text/plain": [
       "<Axes: xlabel='rok'>"
      ]
     },
     "execution_count": 53,
     "metadata": {},
     "output_type": "execute_result"
    },
    {
     "data": {
      "image/png": "[encoded data removed]",
      "text/plain": [
       "<Figure size 2000x500 with 1 Axes>"
      ]
     },
     "metadata": {},
     "output_type": "display_data"
    }
   ],
   "source": [
    "df.groupby('rok')['divactvo'].sum().plot.bar(figsize=(20,5))"
   ]
  },
  {
   "cell_type": "code",
   "execution_count": null,
   "id": "a6011cc9",
   "metadata": {},
   "outputs": [
    {
     "data": {
      "text/plain": [
       "<Axes: xlabel='rok'>"
      ]
     },
     "execution_count": 54,
     "metadata": {},
     "output_type": "execute_result"
    }
   ],
   "source": [
    "df.groupby('rok')['prumerne_vstupne'].mean().plot.bar(figsize=(20,5))"
   ]
  },
  {
   "cell_type": "code",
   "execution_count": null,
   "id": "17c6c3ac",
   "metadata": {},
   "outputs": [],
   "source": [
    "df.groupby('rok')['predstaveni'].sum().plot.bar(figsize=(20,5))"
   ]
  },
  {
   "cell_type": "code",
   "execution_count": null,
   "id": "4f1dd8e6",
   "metadata": {},
   "outputs": [],
   "source": [
    "(df.groupby('rok')['divactvo'].sum() / df.groupby('rok')['predstaveni'].sum())"
   ]
  },
  {
   "cell_type": "code",
   "execution_count": null,
   "id": "aaece972",
   "metadata": {},
   "outputs": [],
   "source": [
    "df[df['rok'].isin([2017,2018,2019])].groupby('mesic')['divactvo'].median().plot.bar()"
   ]
  },
  {
   "cell_type": "code",
   "execution_count": null,
   "id": "cd1ee25e",
   "metadata": {},
   "outputs": [],
   "source": [
    "df[df['rok'].isin([2022,2023])].groupby('mesic')['divactvo'].median().plot.bar()"
   ]
  },
  {
   "cell_type": "code",
   "execution_count": null,
   "id": "6680f26e",
   "metadata": {},
   "outputs": [],
   "source": [
    "(df.groupby('rok')['divactvo'].sum() / df.groupby('rok')['predstaveni'].sum()).plot.bar(figsize=(20,5))"
   ]
  },
  {
   "cell_type": "code",
   "execution_count": null,
   "id": "d97ffe10",
   "metadata": {},
   "outputs": [],
   "source": [
    "df.tail(20)"
   ]
  },
  {
   "cell_type": "code",
   "execution_count": null,
   "id": "70ba72c1",
   "metadata": {
    "scrolled": true
   },
   "outputs": [],
   "source": [
    "df[df['mesic'].isin([1,2,3,4,5])].groupby('rok')['divactvo'].sum()"
   ]
  },
  {
   "cell_type": "code",
   "execution_count": null,
   "id": "275985db",
   "metadata": {},
   "outputs": [],
   "source": [
    "df[df['mesic'].isin([1,2,3,4,5])].groupby('rok')['divactvo'].sum().plot.bar()"
   ]
  },
  {
   "cell_type": "code",
   "execution_count": null,
   "id": "cddb4f98",
   "metadata": {},
   "outputs": [],
   "source": [
    "filmy = pd.read_csv('data/filmy.csv')"
   ]
  },
  {
   "cell_type": "code",
   "execution_count": null,
   "id": "6cc5cf92",
   "metadata": {},
   "outputs": [],
   "source": [
    "filmy.groupby('titul')['diváci'].max().nlargest(10)"
   ]
  },
  {
   "cell_type": "code",
   "execution_count": null,
   "id": "e4054063",
   "metadata": {},
   "outputs": [],
   "source": [
    "filmy.groupby('titul')['diváci_celkem'].max().nlargest(10)"
   ]
  },
  {
   "cell_type": "code",
   "execution_count": null,
   "id": "913cb48e",
   "metadata": {},
   "outputs": [],
   "source": [
    "filmy.groupby('rok')['diváci'].max() / df.groupby('rok')['divactvo'].sum()"
   ]
  },
  {
   "cell_type": "code",
   "execution_count": null,
   "id": "7d77a2f8",
   "metadata": {},
   "outputs": [],
   "source": [
    "filmy.groupby('rok').first()"
   ]
  }
 ],
 "metadata": {
  "kernelspec": {
   "display_name": "Python 3 (ipykernel)",
   "language": "python",
   "name": "python3"
  },
  "language_info": {
   "codemirror_mode": {
    "name": "ipython",
    "version": 3
   },
   "file_extension": ".py",
   "mimetype": "text/x-python",
   "name": "python",
   "nbconvert_exporter": "python",
   "pygments_lexer": "ipython3",
   "version": "3.11.5"
  }
 },
 "nbformat": 4,
 "nbformat_minor": 5
}
