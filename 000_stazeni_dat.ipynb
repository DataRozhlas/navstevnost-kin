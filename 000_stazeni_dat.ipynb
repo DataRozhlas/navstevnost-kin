{
 "cells": [
  {
   "cell_type": "code",
   "execution_count": 1,
   "id": "84c22c9a",
   "metadata": {},
   "outputs": [],
   "source": [
    "import os\n",
    "import requests"
   ]
  },
  {
   "cell_type": "code",
   "execution_count": 3,
   "id": "332329b8",
   "metadata": {},
   "outputs": [],
   "source": [
    "if not os.path.exists(\"data\"):\n",
    "    os.makedirs(\"data\")"
   ]
  },
  {
   "cell_type": "code",
   "execution_count": 4,
   "id": "c4df4ca6",
   "metadata": {},
   "outputs": [],
   "source": [
    "url = \"https://www.ufd.cz/files/article/98/mesicnivysledky.xls\"\n",
    "response = requests.get(url)"
   ]
  },
  {
   "cell_type": "code",
   "execution_count": 5,
   "id": "075afdc4",
   "metadata": {},
   "outputs": [],
   "source": [
    "with open(os.path.join(\"data\", \"mesicnivysledky.xls\"), 'wb') as f:\n",
    "    f.write(response.content)"
   ]
  },
  {
   "cell_type": "code",
   "execution_count": 15,
   "id": "a7276877",
   "metadata": {},
   "outputs": [],
   "source": [
    "rocni = [\n",
    "    'https://www.ufd.cz/files/article/1475/top502023.xls',\n",
    "    'https://www.ufd.cz/files/article/1440/top502022.xls',\n",
    "    'https://www.ufd.cz/files/article/1410/top502021.xls',\n",
    "    'https://www.ufd.cz/files/article/1368/top502020.xls',\n",
    "    'https://www.ufd.cz/files/article/1290/top502019.xls',\n",
    "    'https://www.ufd.cz/files/article/1183/top502018.xls',\n",
    "    'https://www.ufd.cz/files/article/1075/top502017.xls',\n",
    "    'https://www.ufd.cz/files/article/980/top502016_0.xls',\n",
    "    'https://www.ufd.cz/files/article/864/top502015.xls',\n",
    "    'https://www.ufd.cz/files/clanky/top50adm1412c.xls',\n",
    "    'https://www.ufd.cz/files/clanky/top502013uprava.xls',\n",
    "    'https://www.ufd.cz/files/clanky/top502012.xls',\n",
    "    'https://www.ufd.cz/files/clanky/top50-2011_0.xls',\n",
    "    'https://www.ufd.cz/files/clanky/top50adm2010web1.xls',\n",
    "    'https://www.ufd.cz/files/clanky/top502009.xls',\n",
    "    'https://www.ufd.cz/files/clanky/top502008.xls',\n",
    "    'https://www.ufd.cz/files/clanky/top50f2007.xls',\n",
    "    'https://www.ufd.cz/files/clanky/top50f2006.xls',\n",
    "    'https://www.ufd.cz/files/clanky/top50f2005.xls',\n",
    "    'https://www.ufd.cz/files/clanky/top50f2004.xls',\n",
    "    'https://www.ufd.cz/files/clanky/top50f2003.xls',\n",
    "    'https://www.ufd.cz/files/clanky/top50f2002.xls',\n",
    "    'https://www.ufd.cz/files/clanky/top50f2001.xls',\n",
    "    'https://www.ufd.cz/files/clanky/top50f2000.xls',\n",
    "    'https://www.ufd.cz/files/clanky/top50f1999.xls',\n",
    "    'https://www.ufd.cz/files/clanky/top50f1998.xls'\n",
    "]"
   ]
  },
  {
   "cell_type": "code",
   "execution_count": 16,
   "id": "60cbbd69",
   "metadata": {},
   "outputs": [],
   "source": [
    "for url in rocni:\n",
    "    response = requests.get(url)\n",
    "    with open(os.path.join(\"data\", url.split('/')[-1]), 'wb') as f:\n",
    "        f.write(response.content)"
   ]
  }
 ],
 "metadata": {
  "kernelspec": {
   "display_name": "Python 3 (ipykernel)",
   "language": "python",
   "name": "python3"
  },
  "language_info": {
   "codemirror_mode": {
    "name": "ipython",
    "version": 3
   },
   "file_extension": ".py",
   "mimetype": "text/x-python",
   "name": "python",
   "nbconvert_exporter": "python",
   "pygments_lexer": "ipython3",
   "version": "3.11.5"
  }
 },
 "nbformat": 4,
 "nbformat_minor": 5
}
